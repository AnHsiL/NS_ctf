{
 "cells": [
  {
   "cell_type": "code",
   "execution_count": 37,
   "metadata": {},
   "outputs": [
    {
     "name": "stdout",
     "output_type": "stream",
     "text": [
      "flag{I_hAtE_roTteN_ApPlE}"
     ]
    }
   ],
   "source": [
    "s = \"synt{V_uNgR_ebGgrA_NcCyR}\"\n",
    "for i in range(len(s)):\n",
    "    if ord(s[i]) >= ord('A') and ord(s[i]) <= ord('Z'):\n",
    "        rot = ord(s[i])-13 \n",
    "        rot = rot if rot >= ord('A') else rot + ord('Z') -ord('A')+1\n",
    "        print(chr(rot),end='')\n",
    "    elif ord(s[i]) >= ord('a') and ord(s[i]) <= ord('z'):\n",
    "        rot = ord(s[i])-13 \n",
    "        rot = rot if rot >= ord('a') else rot + ord('z')-ord('a')+1\n",
    "        print(chr(rot),end='')\n",
    "    else:\n",
    "        print(s[i], end='')"
   ]
  }
 ],
 "metadata": {
  "kernelspec": {
   "display_name": "Python 3",
   "language": "python",
   "name": "python3"
  },
  "language_info": {
   "codemirror_mode": {
    "name": "ipython",
    "version": 3
   },
   "file_extension": ".py",
   "mimetype": "text/x-python",
   "name": "python",
   "nbconvert_exporter": "python",
   "pygments_lexer": "ipython3",
   "version": "3.10.11"
  }
 },
 "nbformat": 4,
 "nbformat_minor": 2
}
