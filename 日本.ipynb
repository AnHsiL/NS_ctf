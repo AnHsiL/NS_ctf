{
 "cells": [
  {
   "cell_type": "markdown",
   "metadata": {},
   "source": [
    "F12 找 script"
   ]
  },
  {
   "cell_type": "code",
   "execution_count": null,
   "metadata": {
    "vscode": {
     "languageId": "javascript"
    }
   },
   "outputs": [],
   "source": [
    "// Look's like weak JavaScript auth script :)\n",
    "$(\".submit_button\").click(function(event) {\n",
    "    event.preventDefault();\n",
    "    var k = new Array(176,214,205,246,264,255,227,237,242,244,265,270,283);\n",
    "    var u = $(\"#cuser\").val();\n",
    "    var p = $(\"#cpass\").val();\n",
    "    var t = true;\n",
    "\n",
    "    if(u == \"administrator\") {\n",
    "        for(i = 0; i < u.length; i++) {\n",
    "            if((u.charCodeAt(i) + p.charCodeAt(i) + i * 10) != k[i]) {\n",
    "                $(\"#error\").html(\"<div class='alert alert-danger'>Wrong password sorry.</div>\");\n",
    "                t = false;\n",
    "                break;\n",
    "            }\n",
    "        }\n",
    "    } else {\n",
    "        $(\"#error\").html(\"<div class='alert alert-danger'><img src='error.png' style='width:100%'/></div>\");\n",
    "        t = false;\n",
    "    }\n",
    "    if(t) {\n",
    "        if(document.location.href.indexOf(\"?key=\") == -1) {\n",
    "            document.location = document.location.href + \"?key=\" + p;\n",
    "            }\n",
    "    }\n",
    "});"
   ]
  },
  {
   "cell_type": "markdown",
   "metadata": {},
   "source": [
    "解碼"
   ]
  },
  {
   "cell_type": "code",
   "execution_count": 8,
   "metadata": {},
   "outputs": [
    {
     "name": "stdout",
     "output_type": "stream",
     "text": [
      "OhLord4309111"
     ]
    }
   ],
   "source": [
    "k = (176,214,205,246,264,255,227,237,242,244,265,270,283);\n",
    "u = \"administrator\";\n",
    "for i in range(len(u)):\n",
    "    print(chr(k[i] - i*10 - ord(u[i])),end='')"
   ]
  },
  {
   "cell_type": "markdown",
   "metadata": {},
   "source": [
    "得到結果: FLAG{It_Seems_Like_U_Are_Good_At_Math_huh?}"
   ]
  }
 ],
 "metadata": {
  "kernelspec": {
   "display_name": "Python 3",
   "language": "python",
   "name": "python3"
  },
  "language_info": {
   "codemirror_mode": {
    "name": "ipython",
    "version": 3
   },
   "file_extension": ".py",
   "mimetype": "text/x-python",
   "name": "python",
   "nbconvert_exporter": "python",
   "pygments_lexer": "ipython3",
   "version": "3.10.11"
  }
 },
 "nbformat": 4,
 "nbformat_minor": 2
}
