{
 "cells": [
  {
   "cell_type": "markdown",
   "metadata": {},
   "source": [
    "F12 找 script"
   ]
  },
  {
   "cell_type": "code",
   "execution_count": 1,
   "metadata": {},
   "outputs": [
    {
     "name": "stdout",
     "output_type": "stream",
     "text": [
      "0: index.php\n",
      "1: #error\n",
      "2: ha\n",
      "3: location\n",
      "4: #cpass\n",
      "5: ker\n",
      "6: href\n",
      "7: ?key=\n",
      "8: <div class='alert alert-danger'><img src='error.jpg' style='width:100%'/></div>\n",
      "9: click\n",
      "10: val\n",
      "11: .submit_button\n",
      "12: bla\n",
      "13: indexOf\n",
      "14: html\n"
     ]
    }
   ],
   "source": [
    "hex_strings = [\n",
    "    \"\\x69\\x6e\\x64\\x65\\x78\\x2e\\x70\\x68\\x70\",\n",
    "    \"\\x23\\x65\\x72\\x72\\x6f\\x72\",\n",
    "    \"\\x68\\x61\",\n",
    "    \"\\x6c\\x6f\\x63\\x61\\x74\\x69\\x6f\\x6e\",\n",
    "    \"\\x23\\x63\\x70\\x61\\x73\\x73\",\n",
    "    \"\\x6b\\x65\\x72\",\n",
    "    \"\\x68\\x72\\x65\\x66\",\n",
    "    \"\\x3f\\x6b\\x65\\x79\\x3d\",\n",
    "    \"\\x3c\\x64\\x69\\x76\\x20\\x63\\x6c\\x61\\x73\\x73\\x3d\\x27\\x61\\x6c\\x65\\x72\\x74\\x20\\x61\\x6c\\x65\\x72\\x74\\x2d\\x64\\x61\\x6e\\x67\\x65\\x72\\x27\\x3e\\x3c\\x69\\x6d\\x67\\x20\\x73\\x72\\x63\\x3d\\x27\\x65\\x72\\x72\\x6f\\x72\\x2e\\x6a\\x70\\x67\\x27\\x20\\x73\\x74\\x79\\x6c\\x65\\x3d\\x27\\x77\\x69\\x64\\x74\\x68\\x3a\\x31\\x30\\x30\\x25\\x27\\x2f\\x3e\\x3c\\x2f\\x64\\x69\\x76\\x3e\",\n",
    "    \"\\x63\\x6c\\x69\\x63\\x6b\",\n",
    "    \"\\x76\\x61\\x6c\",\n",
    "    \"\\x2e\\x73\\x75\\x62\\x6d\\x69\\x74\\x5f\\x62\\x75\\x74\\x74\\x6f\\x6e\",\n",
    "    \"\\x62\\x6c\\x61\",\n",
    "    \"\\x69\\x6e\\x64\\x65\\x78\\x4f\\x66\",\n",
    "    \"\\x68\\x74\\x6d\\x6c\"\n",
    "]\n",
    "\n",
    "# 解碼並顯示結果\n",
    "for i, hex_str in enumerate(hex_strings):\n",
    "    decoded_str = bytes(hex_str, \"utf-8\").decode(\"unicode_escape\")\n",
    "    print(f\"{i}: {decoded_str}\")"
   ]
  },
  {
   "cell_type": "markdown",
   "metadata": {},
   "source": [
    "\n",
    "script 的內容對照轉換:"
   ]
  },
  {
   "cell_type": "code",
   "execution_count": null,
   "metadata": {},
   "outputs": [],
   "source": [
    "'''\n",
    "$(_0x6e73797375[11])[_0x6e73797375[9]](function (){var _0x737461726a_1=$(_0x6e73797375[4])[_0x6e73797375[10]]();var _0x737461726a_2=_0x6e73797375[12]+_0x6e73797375[12]+_0x6e73797375[12];if(_0x737461726a_1==_0x6e73797375[5]+_0x6e73797375[5]+_0x737461726a_2+_0x6e73797375[2]+_0x6e73797375[2]+_0x6e73797375[2]+_0x6e73797375[2]){if(document[_0x6e73797375[3]][_0x6e73797375[6]][_0x6e73797375[13]](_0x6e73797375[7])==-1){document[_0x6e73797375[3]]=document[_0x6e73797375[3]][_0x6e73797375[6]]+_0x6e73797375[7]+_0x737461726a_1;}}else{if(document[_0x6e73797375[3]][_0x6e73797375[6]][_0x6e73797375[13]](_0x6e73797375[7])!=-1){document[_0x6e73797375[3]]=_0x6e73797375[0];}$(_0x6e73797375[1])[_0x6e73797375[14]](_0x6e73797375[8]);}});\n",
    "'''\n",
    "# 對照轉換:\n",
    "'''\n",
    "$(.submit_button)[click](function (){\n",
    "    var _0x737461726a_1=$(#cpass)[val]();\n",
    "    var _0x737461726a_2=bla+bla+bla;\n",
    "    if(_0x737461726a_1==ker+ker+_0x737461726a_2+ha+ha+ha+ha){\n",
    "        if(document[location][href][indexOf](?key=)==-1){\n",
    "            document[location]=document[location][href]+?key=+_0x737461726a_1;}\n",
    "        }\n",
    "        else{\n",
    "            if(document[location][href][indexOf](?key=)!=-1){\n",
    "                document[location]=index.php;\n",
    "            }\n",
    "            $(#error)[html](\n",
    "                <div class='alert alert-danger'>\n",
    "                <img src='error.jpg' style='width:100%'/>\n",
    "                </div>\n",
    "            );\n",
    "        }\n",
    "    });\n",
    "'''"
   ]
  },
  {
   "cell_type": "markdown",
   "metadata": {},
   "source": [
    "整理:"
   ]
  },
  {
   "cell_type": "code",
   "execution_count": null,
   "metadata": {},
   "outputs": [],
   "source": [
    "'''\n",
    "$(.submit_button).click(function (){\n",
    "    var var1 = $(#cpass).val();\n",
    "    var var2 = bla+bla+bla;\n",
    "    if(var1 == ker + ker + var2 + ha + ha + ha + ha){\n",
    "        if(document.location.href.indexOf(?key=)==-1){\n",
    "            document.location=document.location.href+?key=+var1 ;}\n",
    "        }\n",
    "        else{\n",
    "            if(document.location.href.indexOf(?key=)!=-1){\n",
    "                document.location=index.php;\n",
    "            }\n",
    "            $(#error).html(\n",
    "                <div class='alert alert-danger'>\n",
    "                <img src='error.jpg' style='width:100%'/>\n",
    "                </div>\n",
    "            );\n",
    "        }\n",
    "    });\n",
    "\n",
    "'''"
   ]
  },
  {
   "cell_type": "markdown",
   "metadata": {},
   "source": [
    "推得密碼 = ker + ker + var2 + ha + ha + ha + ha\n",
    "        = kerkerblablablahahahaha\n",
    "\n",
    "輸入得到: FLAG{JavaScript_Function_Is_So0o0o0o0_Secure}"
   ]
  }
 ],
 "metadata": {
  "kernelspec": {
   "display_name": "Python 3",
   "language": "python",
   "name": "python3"
  },
  "language_info": {
   "codemirror_mode": {
    "name": "ipython",
    "version": 3
   },
   "file_extension": ".py",
   "mimetype": "text/x-python",
   "name": "python",
   "nbconvert_exporter": "python",
   "pygments_lexer": "ipython3",
   "version": "3.10.11"
  }
 },
 "nbformat": 4,
 "nbformat_minor": 2
}
