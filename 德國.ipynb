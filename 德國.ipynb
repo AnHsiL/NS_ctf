{
 "cells": [
  {
   "cell_type": "markdown",
   "id": "8e56d800",
   "metadata": {},
   "source": [
    "F12 找到 <head> 中的 <script>"
   ]
  },
  {
   "cell_type": "code",
   "execution_count": null,
   "id": "be6d3fbf",
   "metadata": {
    "vscode": {
     "languageId": "javascript"
    }
   },
   "outputs": [],
   "source": [
    "\n",
    "function curry( orig_func ) {\n",
    "    var ap = Array.prototype, args = arguments;\n",
    "\n",
    "    function fn() {\n",
    "    ap.push.apply( fn.args, arguments );\n",
    "    return fn.args.length < orig_func.length ? fn : orig_func.apply( this, fn.args );\n",
    "    }\n",
    "\n",
    "    return function() {\n",
    "    fn.args = ap.slice.call( args, 1 );\n",
    "    return fn.apply( this, arguments );\n",
    "    };\n",
    "}\n",
    "\n",
    "function callback(x,y,i,a) {\n",
    "  return !y.call(x, a[a[\"length\"]-1-i].toString().slice(19,21)) ? x : {};\n",
    "}\n",
    "\n",
    "var ref = {T : \"BG8\",J : \"jep\",j : \"M2L\",K : \"L23\",H : \"r1A\"};\n",
    "\n",
    "function validatekey()\n",
    "{\n",
    "    e = false;\n",
    "    var _strKey = \"\";\n",
    "    try {\n",
    "        _strKey = document.getElementById(\"cpass\").value;\n",
    "        var a = _strKey.split(\"-\");\n",
    "        if(a.length !== 5)\n",
    "            e = true;\n",
    "\n",
    "        var o=a.map(genFunc).reduceRight(callback, new (genFunc(a[4]))(Function));\n",
    "\n",
    "        if(!equal(o,ref))\n",
    "            e = true;\n",
    "\n",
    "    }catch(x){\n",
    "        e = true;\n",
    "    }\n",
    "\n",
    "    if(!e) {\n",
    "        if(document.location.href.indexOf(\"?key=\") == -1) {\n",
    "            document.location = document.location.href + \"?key=\" + _strKey;\n",
    "        }\n",
    "    } else {\n",
    "        $(\"#error\").html(\"<div class='alert alert-danger'><img src='error.png' style='width:100%'/></div>\");\n",
    "    }\n",
    "}\n",
    "\n",
    "function equal(o,o1)\n",
    "{\n",
    "    var keys1 = Object.keys(o1);\n",
    "    var keys = Object.keys(o);\n",
    "    if(keys1.length != keys.length)\n",
    "        return false;\n",
    "\n",
    "    for(var i=0;i<keys.length;i++)\n",
    "         if(keys[i] != keys1[i] || o[keys[i]] != o1[keys1[i]])\n",
    "            return false;\n",
    "\n",
    "    return true;\n",
    "\n",
    "}\n",
    "\n",
    "function hook(f1,f2,f3) {\n",
    "    return function(x) { return f2(f1(x),f3(x));};\n",
    "}\n",
    "\n",
    "var h = curry(hook);\n",
    "var fn = h(function(x) {return x >= 48;},new Function(\"a\",\"b\",\"return a && b;\"));\n",
    "function genFunc(_part) {\n",
    "    if(!_part || !(_part.length) || _part.length !== 4)\n",
    "        return function() {};\n",
    "\n",
    "    return new Function(_part.substring(1,3), \"this.\" + _part[3] + \"=\" + _part.slice(1,3) + \"+\" + (fn(function(y){return y<=57})(_part.charCodeAt(0)) ?  _part[0] : \"'\"+ _part[0] + \"'\"));\n",
    "}\n"
   ]
  },
  {
   "cell_type": "markdown",
   "id": "39f054bf",
   "metadata": {},
   "source": [
    "### 分析內容  \n",
    "從 `validatekey()` 知道 key 為 XXXX-XXXX-XXXX-XXXX-XXXX （每段4字，共5段）   \n",
    "- 分析 `genFunc(_part)`: 會產生動態函數  \n",
    "    - ex: `_part` = \"ABCD\"  \n",
    "    - new Function(\"BC\", \"this.D=BC+ (數字判斷 ? A : \"'\" + A + \"'\")\") --> (\"BC\", \"this.D=BC+'A'\")  \n",
    "        等價 function F(BC) {this.D = BC + 'A';}  \n",
    "- 分析 `reduceRight(callback, new genFunc(a[4])(Function))`   \n",
    "    - `a.map(genFunc)`: 把每一段轉成 Function  \n",
    "    - `callback`: 轉字串為「從右到左」  \n",
    "    - `reduceRight(callback, obj)`: 從右到左合併每個函數  \n",
    "- 如果結果 = {T : \"BG8\",J : \"jep\",j : \"M2L\",K : \"L23\",H : \"r1A\"} 就是對的  "
   ]
  },
  {
   "cell_type": "markdown",
   "id": "9ee19519",
   "metadata": {},
   "source": [
    "// 有錯\n",
    "### --> 反推: T: \"BG8\"  \n",
    "    先反推 `reduceRight()` --> 8BGT  \n",
    "    \"BG\" + 8 存到 T，所以 this.T = BG + 8 --> 符合 BG8  \n",
    "### --> 反推: J: \"jep\"  \n",
    "    先反推 `reduceRight()` --> pjepJ  \n",
    "    \"je\" + 'p' 存到 J --> 符合 jep  \n",
    "### --> 反推: j : \"M2L\"   \n",
    "    先反推 `reduceRight()` --> LM2j   \n",
    "    \"M2\" + 'L' 存到 j --> M22 不對，該是 \"L\"  \n",
    "### --> 反推: K : \"L23\"  \n",
    "    先反推 `reduceRight()` --> 3L2K    \n",
    "    \"L2\" + 3 存到 K --> 符合 L23   \n",
    "### --> 反推: H : \"r1A\"    \n",
    "    先反推 `reduceRight()` --> Ar1H   \n",
    "    \"r1\" + 'A' 存到 H --> 符合 r1A   \n",
    "   \n",
    "\n",
    "### --> key= 8BGT-pjeJ-LM2j-3L2K-Ar1H"
   ]
  }
 ],
 "metadata": {
  "kernelspec": {
   "display_name": "Python 3",
   "language": "python",
   "name": "python3"
  },
  "language_info": {
   "codemirror_mode": {
    "name": "ipython",
    "version": 3
   },
   "file_extension": ".py",
   "mimetype": "text/x-python",
   "name": "python",
   "nbconvert_exporter": "python",
   "pygments_lexer": "ipython3",
   "version": "3.10.11"
  }
 },
 "nbformat": 4,
 "nbformat_minor": 5
}
