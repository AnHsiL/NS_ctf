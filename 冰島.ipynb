{
 "cells": [
  {
   "cell_type": "markdown",
   "metadata": {},
   "source": [
    "每行長度都是64 --> Base64 Decode\n",
    "(https://www.base64decode.org/)"
   ]
  },
  {
   "cell_type": "markdown",
   "metadata": {},
   "source": [
    "結果 Ctrl + F 找 FLAG :\n",
    "    FLAG{QAQ_Y0U_FOUND_me}"
   ]
  }
 ],
 "metadata": {
  "language_info": {
   "name": "python"
  }
 },
 "nbformat": 4,
 "nbformat_minor": 2
}
