{
 "cells": [
  {
   "cell_type": "markdown",
   "id": "30d2269d",
   "metadata": {},
   "source": [
    "下載檔案"
   ]
  },
  {
   "cell_type": "code",
   "execution_count": null,
   "id": "c593c12e",
   "metadata": {},
   "outputs": [
    {
     "name": "stdout",
     "output_type": "stream",
     "text": [
      "b'\\x1f\\x8b\\x08\\x00\\xcc\\xdb\\xf4X\\x00\\x03\\xed\\xd21\\x0b\\x82@\\x18\\xc6q\\xe7>\\xc5}\\x84\\xbb\\xd3;qpIht\\x90\\x10mSJ\\xc9\\xb2\\xa1\\x0c\\xaaO\\x9f&D-n\\x12\\xc1\\xff\\xb7<\\xbc\\xdc;</\\\\\\xde\\xae\\x1e\\x9bu.\\xa3:\\x0c\\x9d\\x99H)\\xad\\xe7\\x89!}k^)\\xf58\\x8f\\x8c\\x12\\xca\\x95\\xbeQ\\xc6Xc\\x85T\\xae\\xd2\\xbe#\\xe4\\\\\\x85>]/]q\\xee\\xab\\xb4\\xfbS=\\xb5\\xd7\\xafU\\xd5\\xc4\\xfbx\\x89x\\xe7\\x9fH\\x0e\\xb7e\\xe2vQ\\x9e\\xc5\\xc7\\xb8I\\xaa\"\\x8b\\xabm\\x9b\\xdewi\\xd0\\x94Zu\\xa56\\xc1\\xf07\\x16\\xbf.\\n\\x00\\x00\\x00\\x00\\x00\\x00\\x00\\x00\\x00\\x00\\x00\\x00\\x00\\xf8\\xf2\\x04\\x8d\\xa9\\xa1\\xd9\\x00(\\x00\\x00'\n"
     ]
    }
   ],
   "source": [
    "with open(r\"{filepath}/WgZjB1MVIRNu_f020f9b605e8b8cde6b656f043f32f86\", \"rb\") as f:\n",
    "    content = f.read()\n",
    "s = content\n",
    "print(s)"
   ]
  },
  {
   "cell_type": "markdown",
   "id": "e6647438",
   "metadata": {},
   "source": [
    "\\x1f\\x8b\\x08 這三個 byte 開頭 --> gzip 壓縮檔\n",
    "根據 Gzip 官方規範（RFC 1952），gzip 檔案的開頭是 \n",
    "    Byte\t十六進位值      說明\n",
    "    1\t    0x1F            固定識別碼\n",
    "    2\t    0x8B\t        固定識別碼\n",
    "    3\t    0x08\t        壓縮方式：08 表示 DEFLATE 壓縮\n",
    "\n",
    "-->  解壓縮  -->  題目說encode + 解壓縮後 64bits --> Base64 編碼"
   ]
  }
 ],
 "metadata": {
  "kernelspec": {
   "display_name": "Python 3",
   "language": "python",
   "name": "python3"
  },
  "language_info": {
   "codemirror_mode": {
    "name": "ipython",
    "version": 3
   },
   "file_extension": ".py",
   "mimetype": "text/x-python",
   "name": "python",
   "nbconvert_exporter": "python",
   "pygments_lexer": "ipython3",
   "version": "3.10.11"
  }
 },
 "nbformat": 4,
 "nbformat_minor": 5
}
